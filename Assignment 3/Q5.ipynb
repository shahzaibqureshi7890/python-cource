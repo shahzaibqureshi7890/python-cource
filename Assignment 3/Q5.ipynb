{
 "cells": [
  {
   "cell_type": "code",
   "execution_count": 1,
   "id": "d2ee1e65",
   "metadata": {},
   "outputs": [
    {
     "name": "stdout",
     "output_type": "stream",
     "text": [
      "Enter First Nameshahzaib\n",
      "Enter Last Namequreshi\n",
      "qureshi shahzaib\n"
     ]
    }
   ],
   "source": [
    "# Question 5\n",
    "\n",
    "fName=input(\"Enter First Name\");\n",
    "LastName=input(\"Enter Last Name\");\n",
    "print(LastName + \" \" + fName);"
   ]
  },
  {
   "cell_type": "code",
   "execution_count": null,
   "id": "949aae45",
   "metadata": {},
   "outputs": [],
   "source": []
  }
 ],
 "metadata": {
  "kernelspec": {
   "display_name": "Python 3",
   "language": "python",
   "name": "python3"
  },
  "language_info": {
   "codemirror_mode": {
    "name": "ipython",
    "version": 3
   },
   "file_extension": ".py",
   "mimetype": "text/x-python",
   "name": "python",
   "nbconvert_exporter": "python",
   "pygments_lexer": "ipython3",
   "version": "3.8.8"
  }
 },
 "nbformat": 4,
 "nbformat_minor": 5
}
