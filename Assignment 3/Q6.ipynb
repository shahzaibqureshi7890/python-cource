{
 "cells": [
  {
   "cell_type": "code",
   "execution_count": 2,
   "id": "e8dbdf7b",
   "metadata": {},
   "outputs": [
    {
     "name": "stdout",
     "output_type": "stream",
     "text": [
      "Enter Value One10\n",
      "Enter Value Two1\n",
      "11\n"
     ]
    }
   ],
   "source": [
    "# Question 6\n",
    "\n",
    "value1=int(input(\"Enter Value One\"));\n",
    "value2=int(input(\"Enter Value Two\"));\n",
    "print(value1+value2);"
   ]
  },
  {
   "cell_type": "code",
   "execution_count": null,
   "id": "6cea2e33",
   "metadata": {},
   "outputs": [],
   "source": []
  }
 ],
 "metadata": {
  "kernelspec": {
   "display_name": "Python 3",
   "language": "python",
   "name": "python3"
  },
  "language_info": {
   "codemirror_mode": {
    "name": "ipython",
    "version": 3
   },
   "file_extension": ".py",
   "mimetype": "text/x-python",
   "name": "python",
   "nbconvert_exporter": "python",
   "pygments_lexer": "ipython3",
   "version": "3.8.8"
  }
 },
 "nbformat": 4,
 "nbformat_minor": 5
}
