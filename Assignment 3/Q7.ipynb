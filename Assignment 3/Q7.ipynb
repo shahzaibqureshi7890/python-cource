{
 "cells": [
  {
   "cell_type": "code",
   "execution_count": 2,
   "id": "f3f4483b",
   "metadata": {},
   "outputs": [
    {
     "name": "stdout",
     "output_type": "stream",
     "text": [
      "Enter marks of the first subject: 100\n",
      "Enter marks of the second subject: 20\n",
      "Enter marks of the third subject: 11\n",
      "Enter marks of the fourth subject: 22\n",
      "Enter marks of the fifth subject: 34\n",
      "Percentage: 35.0\n",
      "Grade: E\n"
     ]
    }
   ],
   "source": [
    "# Question 7\n",
    "\n",
    "sub1=int(input(\"Enter marks of the first subject: \"));\n",
    "sub2=int(input(\"Enter marks of the second subject: \"));\n",
    "sub3=int(input(\"Enter marks of the third subject: \"));\n",
    "sub4=int(input(\"Enter marks of the fourth subject: \"));\n",
    "sub5=int(input(\"Enter marks of the fifth subject: \"));\n",
    "avg=(sub1+sub2+sub3+sub4+sub4)/5;\n",
    "print('Percentage:',avg);\n",
    "if(avg>=90 and avg<=100):\n",
    "    print(\"Grade: A1\");\n",
    "elif(avg>=80 and avg<90):\n",
    "    print(\"Grade: A\");\n",
    "elif(avg>=70 and avg<80):\n",
    "    print(\"Grade: B\");\n",
    "elif(avg>=60 and avg<70):\n",
    "    print(\"Grade: C\");\n",
    "elif(avg>=50 and avg<60):\n",
    "    print(\"Grade: D\");\n",
    "elif(avg>=30 and avg<60):\n",
    "    print(\"Grade: E\");\n",
    "elif(avg<0 or avg>100):\n",
    "    print(\"Ener Rong Percentage\");    \n",
    "else:\n",
    "    print(\"Grade: F\");"
   ]
  },
  {
   "cell_type": "code",
   "execution_count": null,
   "id": "59f284b2",
   "metadata": {},
   "outputs": [],
   "source": []
  }
 ],
 "metadata": {
  "kernelspec": {
   "display_name": "Python 3",
   "language": "python",
   "name": "python3"
  },
  "language_info": {
   "codemirror_mode": {
    "name": "ipython",
    "version": 3
   },
   "file_extension": ".py",
   "mimetype": "text/x-python",
   "name": "python",
   "nbconvert_exporter": "python",
   "pygments_lexer": "ipython3",
   "version": "3.8.8"
  }
 },
 "nbformat": 4,
 "nbformat_minor": 5
}
