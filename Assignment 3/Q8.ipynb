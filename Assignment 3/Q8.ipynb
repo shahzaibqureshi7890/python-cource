{
 "cells": [
  {
   "cell_type": "code",
   "execution_count": 1,
   "id": "91292052",
   "metadata": {},
   "outputs": [
    {
     "name": "stdout",
     "output_type": "stream",
     "text": [
      "Enter a number: 1\n",
      "1 is Odd number\n"
     ]
    }
   ],
   "source": [
    "# Question 8\n",
    "\n",
    "num = int(input(\"Enter a number: \"));  \n",
    "if (num % 2) == 0:  \n",
    "   print(\"{0} is Even number\".format(num));  \n",
    "else:  \n",
    "   print(\"{0} is Odd number\".format(num));  "
   ]
  },
  {
   "cell_type": "code",
   "execution_count": 2,
   "id": "e45dd954",
   "metadata": {},
   "outputs": [
    {
     "name": "stdout",
     "output_type": "stream",
     "text": [
      "Enter a number: 2\n",
      "2 is Even number\n"
     ]
    }
   ],
   "source": [
    "# Question 8\n",
    "\n",
    "num = int(input(\"Enter a number: \"));  \n",
    "if (num % 2) == 0:  \n",
    "   print(\"{0} is Even number\".format(num));  \n",
    "else:  \n",
    "   print(\"{0} is Odd number\".format(num));  "
   ]
  },
  {
   "cell_type": "code",
   "execution_count": null,
   "id": "a447a646",
   "metadata": {},
   "outputs": [],
   "source": []
  }
 ],
 "metadata": {
  "kernelspec": {
   "display_name": "Python 3",
   "language": "python",
   "name": "python3"
  },
  "language_info": {
   "codemirror_mode": {
    "name": "ipython",
    "version": 3
   },
   "file_extension": ".py",
   "mimetype": "text/x-python",
   "name": "python",
   "nbconvert_exporter": "python",
   "pygments_lexer": "ipython3",
   "version": "3.8.8"
  }
 },
 "nbformat": 4,
 "nbformat_minor": 5
}
