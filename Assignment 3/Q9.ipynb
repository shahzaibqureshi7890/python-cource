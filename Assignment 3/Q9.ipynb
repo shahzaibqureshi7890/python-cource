{
 "cells": [
  {
   "cell_type": "code",
   "execution_count": 3,
   "id": "420bc011",
   "metadata": {},
   "outputs": [
    {
     "name": "stdout",
     "output_type": "stream",
     "text": [
      "3\n"
     ]
    }
   ],
   "source": [
    "# Question 9\n",
    "\n",
    "list=[\"shahzaib\",\"asad\",\"noman\"];\n",
    "print(len(list));"
   ]
  },
  {
   "cell_type": "code",
   "execution_count": null,
   "id": "b821483b",
   "metadata": {},
   "outputs": [],
   "source": []
  }
 ],
 "metadata": {
  "kernelspec": {
   "display_name": "Python 3",
   "language": "python",
   "name": "python3"
  },
  "language_info": {
   "codemirror_mode": {
    "name": "ipython",
    "version": 3
   },
   "file_extension": ".py",
   "mimetype": "text/x-python",
   "name": "python",
   "nbconvert_exporter": "python",
   "pygments_lexer": "ipython3",
   "version": "3.8.8"
  }
 },
 "nbformat": 4,
 "nbformat_minor": 5
}
